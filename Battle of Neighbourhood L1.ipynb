{
 "cells": [
  {
   "cell_type": "markdown",
   "metadata": {},
   "source": [
    "<h1>Introduction</h1>\n",
    "<h3>To start a new restaurant, location matters a lot. If location is best, we can run restaurant successfully. So, this project will help those business users who are planning to open a Indian restaurant in Toronto, Canada and need to find the most suitable location as per analysis.<h3>"
   ]
  },
  {
   "cell_type": "markdown",
   "metadata": {},
   "source": [
    "<h1>Problem Statement</h1>\n",
    "<h3>1. What should be the best location to open a Indian Restaurant in Toronto? </h3>\n",
    "<h3>2. Which neighbourhood i should select to open Indian Restaurant in Toronto</h3>\n"
   ]
  },
  {
   "cell_type": "markdown",
   "metadata": {},
   "source": [
    "<h1>Data Gathering</h1>\n",
    "We will need some sources for collecting the data which are as follows:\n",
    "\n",
    "    1. We need Boroughs, Neighborhoods, Latitudes, Longitudes of Canada so that we can get Toronto and its neighborhoods.\n",
    "       Data Source: https://en.wikipedia.org/wiki/List_of_postal_codes_of_Canada:_M\n",
    "         \n",
    "    2. To get the neighborhoods, venues, indian restaurant etc data, we will use FourSquare api.\n",
    "       Data Source: https://foursquare.com/"
   ]
  },
  {
   "cell_type": "code",
   "execution_count": null,
   "metadata": {},
   "outputs": [],
   "source": []
  }
 ],
 "metadata": {
  "kernelspec": {
   "display_name": "Python",
   "language": "python",
   "name": "conda-env-python-py"
  },
  "language_info": {
   "codemirror_mode": {
    "name": "ipython",
    "version": 3
   },
   "file_extension": ".py",
   "mimetype": "text/x-python",
   "name": "python",
   "nbconvert_exporter": "python",
   "pygments_lexer": "ipython3",
   "version": "3.6.12"
  }
 },
 "nbformat": 4,
 "nbformat_minor": 4
}
